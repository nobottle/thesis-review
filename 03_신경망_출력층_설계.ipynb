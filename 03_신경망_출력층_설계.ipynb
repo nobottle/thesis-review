{
  "nbformat": 4,
  "nbformat_minor": 0,
  "metadata": {
    "colab": {
      "provenance": [],
      "authorship_tag": "ABX9TyNPDgDNryRhSUlPOVuD+fY5",
      "include_colab_link": true
    },
    "kernelspec": {
      "name": "python3",
      "display_name": "Python 3"
    },
    "language_info": {
      "name": "python"
    }
  },
  "cells": [
    {
      "cell_type": "markdown",
      "metadata": {
        "id": "view-in-github",
        "colab_type": "text"
      },
      "source": [
        "<a href=\"https://colab.research.google.com/github/nobottle/codingtest-review/blob/main/03_%EC%8B%A0%EA%B2%BD%EB%A7%9D_%EC%B6%9C%EB%A0%A5%EC%B8%B5_%EC%84%A4%EA%B3%84.ipynb\" target=\"_parent\"><img src=\"https://colab.research.google.com/assets/colab-badge.svg\" alt=\"Open In Colab\"/></a>"
      ]
    },
    {
      "cell_type": "markdown",
      "source": [
        "신경망은 분류와 회귀 모두 이용 가능\n",
        "\n",
        "일반적으로는 회귀에는 항등함수\n",
        "\n",
        "분류에는 소프트맥스 함수를 사용한다\n",
        "\n",
        "\n",
        "(분류:데이터가 어느 클래스에 속하느냐 사진속 인물의 성별을 분류하는 문제)\n",
        "\n",
        "(회귀:입력 데이터에서 연속적인 수치를 예측 사진 속 인물의 몸무게를 예측하는거 같은)"
      ],
      "metadata": {
        "id": "HymEyn4Ytcas"
      }
    },
    {
      "cell_type": "markdown",
      "source": [
        "***항등 함수와 소프트 맥스 함수 구현하기***\n",
        "\n",
        "항등함수는 입력을 그대로 출력\n",
        "\n",
        "입력과 출력이 항상 같다는 뜻의 항등\n",
        "\n",
        "a1>q()>y1\n",
        "a2>q()>y2\n",
        "\n",
        "\n",
        "분류에서 사용하는 소프트맥스 함수식(p.91참조)\n",
        "\n",
        "출력은 모든 입력 신호로부터 화살표를 받음 출력층의 각 뉴런이 모든 입력신호에서 영향을 받는다\n",
        "\n"
      ],
      "metadata": {
        "id": "Q4kgfL_9uTtQ"
      }
    },
    {
      "cell_type": "code",
      "source": [
        "#소프트맥스 함수 구현\n",
        "\n",
        "import numpy as np\n",
        "\n",
        "a=np.array([0.3,2.9,4.0])\n",
        "\n",
        "exp_a=np.exp(a) #지수함수\n",
        "print(exp_a)\n",
        "\n",
        "sum_exp_a=np.sum(exp_a)\n",
        "print(sum_exp_a)\n",
        "\n",
        "y=exp_a/sum_exp_a\n",
        "print(y)"
      ],
      "metadata": {
        "colab": {
          "base_uri": "https://localhost:8080/"
        },
        "id": "v_-g9QuKv7Dn",
        "outputId": "23d1a9a7-f7a4-41a8-eec5-aa2aeae0b81f"
      },
      "execution_count": 3,
      "outputs": [
        {
          "output_type": "stream",
          "name": "stdout",
          "text": [
            "[ 1.34985881 18.17414537 54.59815003]\n",
            "74.1221542101633\n",
            "[0.01821127 0.24519181 0.73659691]\n"
          ]
        }
      ]
    },
    {
      "cell_type": "code",
      "source": [
        "#함수로 정의해놓기\n",
        "\n",
        "def softmax(a):\n",
        "  exp_a=np.exp(a)\n",
        "  sum_exp_a=np.sum(exp_a)\n",
        "  y=exp_a/sum_exp_a\n",
        "  return y\n"
      ],
      "metadata": {
        "id": "YN0u6-JtwZ43"
      },
      "execution_count": 4,
      "outputs": []
    },
    {
      "cell_type": "markdown",
      "source": [
        "앞 절에서 softmax()함수 구현할 때 컴퓨터로 계산할 떄는 문제가 잇다\n",
        "\n",
        "바로 오버플문제\n",
        "\n",
        "소프트맥스 함수는 지수함수를 사용하는데 지수함수는 아주 큰 값을 쉬게 내뱉는다\n",
        "\n",
        "이런 큰 값끼리 나눗셈을 할 경우 결과 수치가 '불안정'해진다\n",
        "\n",
        "\n",
        "(p.93참조)소프트 맥스 함수를 개선한 수식"
      ],
      "metadata": {
        "id": "AqtmBpiRwwmj"
      }
    },
    {
      "cell_type": "code",
      "source": [
        "#오버플로를 막을 목적으로 입력 신호 중 최댓값을 이용하기\n",
        "\n",
        "a=np.array([1010,1000,990])\n",
        "np.exp(a)/np.sum(np.exp(a)) #소프트맥스 함수의 계산\n",
        "#위에 결과는 제대로 계산이 안됨\n",
        "\n",
        "c=np.max(a) #c=1010(최댓값)\n",
        "print(a-c)\n",
        "\n",
        "np.exp(a-c)/np.sum(np.exp(a-c))"
      ],
      "metadata": {
        "colab": {
          "base_uri": "https://localhost:8080/"
        },
        "id": "KH0jQC9SxpB2",
        "outputId": "6e4ddc9f-ec18-4dd1-ad17-d3333c00cc89"
      },
      "execution_count": 7,
      "outputs": [
        {
          "output_type": "stream",
          "name": "stdout",
          "text": [
            "[  0 -10 -20]\n"
          ]
        },
        {
          "output_type": "stream",
          "name": "stderr",
          "text": [
            "<ipython-input-7-2e49140a9860>:4: RuntimeWarning: overflow encountered in exp\n",
            "  np.exp(a)/np.sum(np.exp(a)) #소프트맥스 함수의 계산\n",
            "<ipython-input-7-2e49140a9860>:4: RuntimeWarning: invalid value encountered in true_divide\n",
            "  np.exp(a)/np.sum(np.exp(a)) #소프트맥스 함수의 계산\n"
          ]
        },
        {
          "output_type": "execute_result",
          "data": {
            "text/plain": [
              "array([9.99954600e-01, 4.53978686e-05, 2.06106005e-09])"
            ]
          },
          "metadata": {},
          "execution_count": 7
        }
      ]
    },
    {
      "cell_type": "markdown",
      "source": [
        "위 예에서 아무런 조치 없이 계산하면 nan이 출력된다(not a number)\n",
        "하지만 입력신호 중 최댓값을 빼주면 올바르게 계산이 됨"
      ],
      "metadata": {
        "id": "tKPThTbZyX8F"
      }
    },
    {
      "cell_type": "code",
      "source": [
        "def softmax(a):\n",
        "  c=np.max(a)\n",
        "  exp_a=np.exp(a-c)#오버플로 대책\n",
        "  sum_exp_a=np.sum(exp_a)\n",
        "  y=exp_a/sum_exp_a\n",
        "\n",
        "  return y"
      ],
      "metadata": {
        "id": "780a3xb3yqYr"
      },
      "execution_count": 8,
      "outputs": []
    },
    {
      "cell_type": "code",
      "source": [
        "#소프트 함수의 특징\n",
        "\n",
        "a=np.array([0.3,2.9,4.0])\n",
        "y=softmax(a)\n",
        "print(y)\n",
        "\n",
        "np.sum(y)"
      ],
      "metadata": {
        "colab": {
          "base_uri": "https://localhost:8080/"
        },
        "id": "FERzRLs3zAQr",
        "outputId": "fc305d68-e666-4597-81bf-b38da2da6654"
      },
      "execution_count": 9,
      "outputs": [
        {
          "output_type": "stream",
          "name": "stdout",
          "text": [
            "[0.01821127 0.24519181 0.73659691]\n"
          ]
        },
        {
          "output_type": "execute_result",
          "data": {
            "text/plain": [
              "1.0"
            ]
          },
          "metadata": {},
          "execution_count": 9
        }
      ]
    },
    {
      "cell_type": "markdown",
      "source": [
        "위에 보는 바와 같이 출력은 0에서 1사이의 실수이다\n",
        "소프트함수 총 합은1이다\n",
        "\n",
        "출력총합이 1이 된다는 점은 소프트맥스 함수의 중요한 성질이다\n",
        "\n",
        "덕분에 소프트맥스 함수의 출력을 '확률'로 해석할 수 잇다\n",
        "\n",
        "앞에서 y[0]의 확률은 0.018(1.8%)\n",
        "\n",
        "y[1]의 확률은 0.245(24.5%)\n",
        "\n",
        "y[2]의 확률은 0.737(73.7%)\n",
        "\n",
        "로 해석 가능\n",
        "\n",
        "이 결과 확률로부터 2번째 원소의 확률이 가장 높으니\n",
        "\n",
        "답은 2번째 클래스다 라고 할 수 있다\n",
        "\n",
        "또는 74퍼의 확률로 2번째 클래스,25퍼의 확률로 1번째 클래스 1퍼의 확률로 0번째\n",
        "\n",
        "클래스라고 할 수 잇는 확률적인 결론도 내릴 수 잇다\n",
        "\n",
        "주의점으로는 소프트맥스 함수를 적용해도 각 원소의 대소관곈 변하지 않는다\n",
        "\n",
        "이는 지수함수y=exp(x)가 단조 증가 함수이기 때문\n",
        "\n",
        "a에서 가장 큰 원소는 2번째 y에서 가장 큰 원소도 두번째\n",
        "\n",
        "신경망을 이용한 분류에서는 일반적으로 가장 큰 출력을 내는 뉴런에 해당하는 클래스로만 인식한다\n",
        "\n",
        "소프트맥스의 함수를 적용해도 출력이 가장 큰 뉴런의 위치는 달라지지 않는다\n",
        "\n",
        "결과적으로 신경망으로 분류할 경우 출력층의 소프트맥스 함수를 생략해도 됨\n"
      ],
      "metadata": {
        "id": "5m2o762gzSCR"
      }
    },
    {
      "cell_type": "markdown",
      "source": [
        "출력층의 뉴런 수 정하기\n",
        "\n",
        "분류애서는 분류하고 싶은 클래스 수로 설정하는 것이 일반적이다\n",
        "\n",
        "예를들어 입력 이미지를 숫자0부터 9중 하나로 분류하는 문제라면 출력층의 뉴런을 10개로 설정\n",
        "(p.96참조)"
      ],
      "metadata": {
        "id": "KyWb1al82Hru"
      }
    },
    {
      "cell_type": "markdown",
      "source": [],
      "metadata": {
        "id": "Jim-MSRc2jCl"
      }
    }
  ]
}