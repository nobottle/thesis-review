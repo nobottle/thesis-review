{
  "nbformat": 4,
  "nbformat_minor": 0,
  "metadata": {
    "colab": {
      "provenance": [],
      "authorship_tag": "ABX9TyP8cUr4TJipPeGVmAMf83Xv",
      "include_colab_link": true
    },
    "kernelspec": {
      "name": "python3",
      "display_name": "Python 3"
    },
    "language_info": {
      "name": "python"
    }
  },
  "cells": [
    {
      "cell_type": "markdown",
      "metadata": {
        "id": "view-in-github",
        "colab_type": "text"
      },
      "source": [
        "<a href=\"https://colab.research.google.com/github/nobottle/codingtest-review/blob/main/03_%EC%8B%A0%EA%B2%BD%EB%A7%9D_%EB%8B%A4%EC%B0%A8%EC%9B%90_%EB%B0%B0%EC%97%B4%EC%9D%98_%EA%B3%84%EC%82%B0~3%EC%B8%B5%EC%8B%A0%EA%B2%BD%EB%A7%9D%EA%B5%AC%ED%98%84.ipynb\" target=\"_parent\"><img src=\"https://colab.research.google.com/assets/colab-badge.svg\" alt=\"Open In Colab\"/></a>"
      ]
    },
    {
      "cell_type": "markdown",
      "source": [
        "**다차원 배열***"
      ],
      "metadata": {
        "id": "Z0QeudIpyw4V"
      }
    },
    {
      "cell_type": "code",
      "source": [
        "import numpy as np\n",
        "A=np.array([1,2,3,4])\n",
        "print(A)\n",
        "\n",
        "print(np.ndim(A)) #배열의 차원 수\n",
        "\n",
        "print(A.shape)\n",
        "\n",
        "print(A.shape[0])\n"
      ],
      "metadata": {
        "colab": {
          "base_uri": "https://localhost:8080/"
        },
        "id": "7TcrogbYyz5F",
        "outputId": "dfe36b2d-2c79-4635-e23e-4a3042abb481"
      },
      "execution_count": 13,
      "outputs": [
        {
          "output_type": "stream",
          "name": "stdout",
          "text": [
            "[1 2 3 4]\n",
            "1\n",
            "(4,)\n",
            "4\n"
          ]
        }
      ]
    },
    {
      "cell_type": "markdown",
      "source": [],
      "metadata": {
        "id": "efVkd6FRb_9k"
      }
    },
    {
      "cell_type": "markdown",
      "source": [],
      "metadata": {
        "id": "g9WVXBEmcCHn"
      }
    },
    {
      "cell_type": "code",
      "source": [
        "B=np.array([[1,2],[3,4],[5,6]])\n",
        "print(B)\n",
        "\n",
        "print(np.ndim(B))\n",
        "\n",
        "print(B.shape)"
      ],
      "metadata": {
        "colab": {
          "base_uri": "https://localhost:8080/"
        },
        "id": "136OZxOcztGY",
        "outputId": "1c5469dd-7e15-4f10-878b-03e820d7c2c9"
      },
      "execution_count": 14,
      "outputs": [
        {
          "output_type": "stream",
          "name": "stdout",
          "text": [
            "[[1 2]\n",
            " [3 4]\n",
            " [5 6]]\n",
            "2\n",
            "(3, 2)\n"
          ]
        }
      ]
    },
    {
      "cell_type": "code",
      "source": [
        "#행렬의 곱셈\n",
        "A=np.array([[1,2],[3,4]])\n",
        "print(A.shape)\n",
        "\n",
        "B=np.array([[5,6],[7,8]])\n",
        "\n",
        "print(B.shape)\n",
        "\n",
        "print(np.dot(A,B)) #두 행렬의 곱 1차원이면 백터를,2차원이면 행렬 곱을 계산한다"
      ],
      "metadata": {
        "colab": {
          "base_uri": "https://localhost:8080/"
        },
        "id": "u9yIanir0jaV",
        "outputId": "c5c90422-647d-4725-e64c-428dc773432c"
      },
      "execution_count": 15,
      "outputs": [
        {
          "output_type": "stream",
          "name": "stdout",
          "text": [
            "(2, 2)\n",
            "(2, 2)\n",
            "[[19 22]\n",
            " [43 50]]\n"
          ]
        }
      ]
    },
    {
      "cell_type": "code",
      "source": [
        "A=np.array([[1,2,3],[4,5,6]])\n",
        "\n",
        "print(A.shape)\n",
        "\n",
        "B=np.array([[1,2],[3,4],[5,6]])\n",
        "\n",
        "print(B.shape)\n",
        "\n",
        "print(np.dot(A,B))\n",
        "\n",
        "#곱은 첫번째 행렬 열수와 2번째 행렬 행의 원소 수가 같아야 한다!"
      ],
      "metadata": {
        "colab": {
          "base_uri": "https://localhost:8080/"
        },
        "id": "9rRAvWc71G3Y",
        "outputId": "46b80372-867a-4ddb-cd77-5f8b4843b3d0"
      },
      "execution_count": 16,
      "outputs": [
        {
          "output_type": "stream",
          "name": "stdout",
          "text": [
            "(2, 3)\n",
            "(3, 2)\n",
            "[[22 28]\n",
            " [49 64]]\n"
          ]
        }
      ]
    },
    {
      "cell_type": "markdown",
      "source": [
        "행렬\n",
        "A(3,2)\n",
        "B(2,4)\n",
        "A*B=C(3,4)\n",
        "계산 결과인 C의 형상은 A의 행수와 B의 열수로 된다!!\n",
        "\n",
        "\n",
        "A(3,2).  B(2) 일 경우 A의 뒤쪽과 B가 일치해야한다\n"
      ],
      "metadata": {
        "id": "ik45b6jf4CiR"
      }
    },
    {
      "cell_type": "code",
      "source": [
        "A=np.array([[1,2],[3,4],[5,6]])\n",
        "print(A.shape)\n",
        "\n",
        "B=np.array([7,8])\n",
        "print(B.shape)\n",
        "\n",
        "print(np.dot(A,B))"
      ],
      "metadata": {
        "colab": {
          "base_uri": "https://localhost:8080/"
        },
        "id": "4mWu2XsI4TVw",
        "outputId": "fafef41b-5b92-4a04-c2bf-cf73408db018"
      },
      "execution_count": 17,
      "outputs": [
        {
          "output_type": "stream",
          "name": "stdout",
          "text": [
            "(3, 2)\n",
            "(2,)\n",
            "[23 53 83]\n"
          ]
        }
      ]
    },
    {
      "cell_type": "code",
      "source": [
        "#신경망에서의 행렬 곱 1차원과 2차원배열의 경우 1차원을 앞에서 곱하면 2차원 행이랑 개수가 일치해야하고 뒤애서 곱하면 열에서 개수가 일치해야한다\n",
        "\n",
        "'''\n",
        "x w y \n",
        "(p.82참조)\n",
        "'''\n",
        "X=np.array([1,2])\n",
        "print(X.shape)\n",
        "\n",
        "W=np.array([[1,3,5],[2,4,6]])\n",
        "print(W)\n",
        "\n",
        "print(W.shape)\n",
        "\n",
        "Y=np.dot(X,W)\n",
        "print(Y)\n",
        "\n"
      ],
      "metadata": {
        "colab": {
          "base_uri": "https://localhost:8080/"
        },
        "id": "x7cYfg5J7SZM",
        "outputId": "a68f6212-8770-4ab0-bb96-47581ffbd672"
      },
      "execution_count": 18,
      "outputs": [
        {
          "output_type": "stream",
          "name": "stdout",
          "text": [
            "(2,)\n",
            "[[1 3 5]\n",
            " [2 4 6]]\n",
            "(2, 3)\n",
            "[ 5 11 17]\n"
          ]
        }
      ]
    },
    {
      "cell_type": "markdown",
      "source": [
        "3층 신경망 구현하기\n",
        "\n",
        "x2>>>>>a1으로 뉴런이 향할 때\n",
        "\n",
        "w12**(1)\n",
        "\n",
        "1은 다음층의 첫번 째 뉴런\n",
        "\n",
        "2는 앞 층의 2번째 뉴런\n",
        "\n",
        "(1)1층의 가중치"
      ],
      "metadata": {
        "id": "ntvw-wa1cEBp"
      }
    },
    {
      "cell_type": "code",
      "source": [
        "x=np.array([1,0.5])\n",
        "w1=np.array([[0.1,0.3,0.5],[0.2,0.4,0.6]])\n",
        "b1=np.array([0.1,0.2,0.3])\n",
        "\n",
        "print(w1.shape)\n",
        "print(x.shape)\n",
        "print(b1.shape)\n",
        "\n",
        "a1=np.dot(x,w1)+b1\n",
        "print(a1)\n",
        "\n",
        "def sigmoid(x):\n",
        "  return 1/(1+np.exp(-x))\n",
        "\n",
        "z1=sigmoid(a1)\n",
        "\n",
        "print(z1)\n",
        "print(a1)\n",
        "\n",
        "w2=np.array([[0.1,0.4],[0.2,0.5],[0.3,0.6]])\n",
        "b2=np.array([0.1,0.2])\n",
        "\n",
        "print(z1.shape)\n",
        "print(w2.shape)\n",
        "print(b2.shape)\n",
        "\n",
        "a2=np.dot(z1,w2)+b2\n",
        "z2=sigmoid(a2)\n",
        "\n",
        "print(z2)\n",
        "\n",
        "def identity_function(x):\n",
        "  return X\n",
        "\n",
        "w3=np.array([[0.1,0.3],[0.2,0.4]])\n",
        "b3=np.array([0.1,0.2])\n",
        "\n",
        "a3=np.dot(z2,w3)+b3\n",
        "y=np.identity_function(a3) #혹은 y=a3"
      ],
      "metadata": {
        "colab": {
          "base_uri": "https://localhost:8080/"
        },
        "id": "6LZ8UHX-c-wr",
        "outputId": "a2947cb2-eb49-4354-9a73-ee65a542feb9"
      },
      "execution_count": 30,
      "outputs": [
        {
          "output_type": "stream",
          "name": "stdout",
          "text": [
            "(2, 3)\n",
            "(2,)\n",
            "(3,)\n",
            "[0.3 0.7 1.1]\n",
            "[0.57444252 0.66818777 0.75026011]\n",
            "[0.3 0.7 1.1]\n",
            "(3,)\n",
            "(3, 2)\n",
            "(2,)\n",
            "[0.62624937 0.7710107 ]\n"
          ]
        }
      ]
    },
    {
      "cell_type": "code",
      "source": [
        "#신경망의 순방향 구현\n",
        "\n",
        "import numpy as np\n",
        "\n",
        "\n",
        "\n",
        "def init_network(): #가중치와 편향을 초기화하고 딕셔너리 변수인 network에 저장 network변수는 각 층에 필요한 매개변수를 저장\n",
        "  network={}\n",
        "  network['W1']=np.array([[0.1,0.3,0.5],[0.2,0.4,0.6]])\n",
        "  network['b1']=np.array([0.1,0.2,0.3])\n",
        "  network['W2']=np.array([[0.1,0.4],[0.2,0.5],[0.3,0.6]])\n",
        "  network['b2']=np.array([0.1,0.2])\n",
        "  network['W3']=np.array([[0.1,0.3],[0.2,0.4]])\n",
        "  network['b3']=np.array([0.1,0.2])\n",
        "\n",
        "  return network\n",
        "\n",
        "\n",
        "def forward(network,x): #입력신호를 출력으로 변환시킴\n",
        "  W1,W2,W3=network['W1'],network['W2'],network['W3']\n",
        "  b1,b2,b3=network['b1'],network['b2'],network['b3']\n",
        "\n",
        "  a1=np.dot(x,W1)+b1\n",
        "  z1=sigmoid(a1)\n",
        "  a2=np.dot(z1,W2)+b2\n",
        "  z2=sigmoid(a2)\n",
        "  a3=np.dot(z2,W3)+b3\n",
        "  y=identity_function(a3)\n",
        "\n",
        "  return y\n",
        "\n",
        "network=init_network()\n",
        "x=np.array([1.0,0.5])\n",
        "y=forward(network,x)\n",
        "print(y)"
      ],
      "metadata": {
        "colab": {
          "base_uri": "https://localhost:8080/"
        },
        "id": "koDO-LcWjPbT",
        "outputId": "a9d59f5e-4fd3-4e35-9e66-7a85e81be864"
      },
      "execution_count": 38,
      "outputs": [
        {
          "output_type": "stream",
          "name": "stdout",
          "text": [
            "[1 2]\n"
          ]
        }
      ]
    }
  ]
}